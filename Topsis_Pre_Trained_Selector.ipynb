{
  "nbformat": 4,
  "nbformat_minor": 0,
  "metadata": {
    "colab": {
      "provenance": [],
      "toc_visible": true
    },
    "kernelspec": {
      "name": "python3",
      "display_name": "Python 3"
    },
    "language_info": {
      "name": "python"
    },
    "widgets": {
      "application/vnd.jupyter.widget-state+json": {
        "c0f54eaed4c2414bb3183bde251c1ef8": {
          "model_module": "@jupyter-widgets/controls",
          "model_name": "VBoxModel",
          "model_module_version": "1.5.0",
          "state": {
            "_dom_classes": [],
            "_model_module": "@jupyter-widgets/controls",
            "_model_module_version": "1.5.0",
            "_model_name": "VBoxModel",
            "_view_count": null,
            "_view_module": "@jupyter-widgets/controls",
            "_view_module_version": "1.5.0",
            "_view_name": "VBoxView",
            "box_style": "",
            "children": [],
            "layout": "IPY_MODEL_a82c3cdb58bd46a19a914eda09d1d1b2"
          }
        },
        "54f8b3d6bbd94a5fa6ac3d38a4078445": {
          "model_module": "@jupyter-widgets/controls",
          "model_name": "HTMLModel",
          "model_module_version": "1.5.0",
          "state": {
            "_dom_classes": [],
            "_model_module": "@jupyter-widgets/controls",
            "_model_module_version": "1.5.0",
            "_model_name": "HTMLModel",
            "_view_count": null,
            "_view_module": "@jupyter-widgets/controls",
            "_view_module_version": "1.5.0",
            "_view_name": "HTMLView",
            "description": "",
            "description_tooltip": null,
            "layout": "IPY_MODEL_afcd56db381a49e2a9db732c9b34ec04",
            "placeholder": "​",
            "style": "IPY_MODEL_78f4142c9c814921a066c085a714d268",
            "value": "<center> <img\nsrc=https://huggingface.co/front/assets/huggingface_logo-noborder.svg\nalt='Hugging Face'> <br> Copy a token from <a\nhref=\"https://huggingface.co/settings/tokens\" target=\"_blank\">your Hugging Face\ntokens page</a> and paste it below. <br> Immediately click login after copying\nyour token or it might be stored in plain text in this notebook file. </center>"
          }
        },
        "5b483b08aba94124aa63e452e8487e94": {
          "model_module": "@jupyter-widgets/controls",
          "model_name": "PasswordModel",
          "model_module_version": "1.5.0",
          "state": {
            "_dom_classes": [],
            "_model_module": "@jupyter-widgets/controls",
            "_model_module_version": "1.5.0",
            "_model_name": "PasswordModel",
            "_view_count": null,
            "_view_module": "@jupyter-widgets/controls",
            "_view_module_version": "1.5.0",
            "_view_name": "PasswordView",
            "continuous_update": true,
            "description": "Token:",
            "description_tooltip": null,
            "disabled": false,
            "layout": "IPY_MODEL_5f11bb53c97a41d7a8b5d3838a24ceef",
            "placeholder": "​",
            "style": "IPY_MODEL_5eb880f3a4b3426794cb5426f9da2f9f",
            "value": ""
          }
        },
        "6f6209f742c6420fb6b326cc39573159": {
          "model_module": "@jupyter-widgets/controls",
          "model_name": "CheckboxModel",
          "model_module_version": "1.5.0",
          "state": {
            "_dom_classes": [],
            "_model_module": "@jupyter-widgets/controls",
            "_model_module_version": "1.5.0",
            "_model_name": "CheckboxModel",
            "_view_count": null,
            "_view_module": "@jupyter-widgets/controls",
            "_view_module_version": "1.5.0",
            "_view_name": "CheckboxView",
            "description": "Add token as git credential?",
            "description_tooltip": null,
            "disabled": false,
            "indent": true,
            "layout": "IPY_MODEL_1377a3be81aa449d9db92dc6183d5c9f",
            "style": "IPY_MODEL_ef53441e58d940b8ba05a95593edeaf8",
            "value": true
          }
        },
        "7b4fc876c6cf47baa371c98be399526c": {
          "model_module": "@jupyter-widgets/controls",
          "model_name": "ButtonModel",
          "model_module_version": "1.5.0",
          "state": {
            "_dom_classes": [],
            "_model_module": "@jupyter-widgets/controls",
            "_model_module_version": "1.5.0",
            "_model_name": "ButtonModel",
            "_view_count": null,
            "_view_module": "@jupyter-widgets/controls",
            "_view_module_version": "1.5.0",
            "_view_name": "ButtonView",
            "button_style": "",
            "description": "Login",
            "disabled": false,
            "icon": "",
            "layout": "IPY_MODEL_43bf0eaa32804182af07393ff7a39441",
            "style": "IPY_MODEL_84f3fa62ee7f4d8080c5da930e91ece8",
            "tooltip": ""
          }
        },
        "c9936e50480243c6b77569ca138e7ba7": {
          "model_module": "@jupyter-widgets/controls",
          "model_name": "HTMLModel",
          "model_module_version": "1.5.0",
          "state": {
            "_dom_classes": [],
            "_model_module": "@jupyter-widgets/controls",
            "_model_module_version": "1.5.0",
            "_model_name": "HTMLModel",
            "_view_count": null,
            "_view_module": "@jupyter-widgets/controls",
            "_view_module_version": "1.5.0",
            "_view_name": "HTMLView",
            "description": "",
            "description_tooltip": null,
            "layout": "IPY_MODEL_6c104f309de243ab855a97fe7ea92ef4",
            "placeholder": "​",
            "style": "IPY_MODEL_86e62e99dcc943728fd57ee6092e2343",
            "value": "\n<b>Pro Tip:</b> If you don't already have one, you can create a dedicated\n'notebooks' token with 'write' access, that you can then easily reuse for all\nnotebooks. </center>"
          }
        },
        "a82c3cdb58bd46a19a914eda09d1d1b2": {
          "model_module": "@jupyter-widgets/base",
          "model_name": "LayoutModel",
          "model_module_version": "1.2.0",
          "state": {
            "_model_module": "@jupyter-widgets/base",
            "_model_module_version": "1.2.0",
            "_model_name": "LayoutModel",
            "_view_count": null,
            "_view_module": "@jupyter-widgets/base",
            "_view_module_version": "1.2.0",
            "_view_name": "LayoutView",
            "align_content": null,
            "align_items": "center",
            "align_self": null,
            "border": null,
            "bottom": null,
            "display": "flex",
            "flex": null,
            "flex_flow": "column",
            "grid_area": null,
            "grid_auto_columns": null,
            "grid_auto_flow": null,
            "grid_auto_rows": null,
            "grid_column": null,
            "grid_gap": null,
            "grid_row": null,
            "grid_template_areas": null,
            "grid_template_columns": null,
            "grid_template_rows": null,
            "height": null,
            "justify_content": null,
            "justify_items": null,
            "left": null,
            "margin": null,
            "max_height": null,
            "max_width": null,
            "min_height": null,
            "min_width": null,
            "object_fit": null,
            "object_position": null,
            "order": null,
            "overflow": null,
            "overflow_x": null,
            "overflow_y": null,
            "padding": null,
            "right": null,
            "top": null,
            "visibility": null,
            "width": "50%"
          }
        },
        "afcd56db381a49e2a9db732c9b34ec04": {
          "model_module": "@jupyter-widgets/base",
          "model_name": "LayoutModel",
          "model_module_version": "1.2.0",
          "state": {
            "_model_module": "@jupyter-widgets/base",
            "_model_module_version": "1.2.0",
            "_model_name": "LayoutModel",
            "_view_count": null,
            "_view_module": "@jupyter-widgets/base",
            "_view_module_version": "1.2.0",
            "_view_name": "LayoutView",
            "align_content": null,
            "align_items": null,
            "align_self": null,
            "border": null,
            "bottom": null,
            "display": null,
            "flex": null,
            "flex_flow": null,
            "grid_area": null,
            "grid_auto_columns": null,
            "grid_auto_flow": null,
            "grid_auto_rows": null,
            "grid_column": null,
            "grid_gap": null,
            "grid_row": null,
            "grid_template_areas": null,
            "grid_template_columns": null,
            "grid_template_rows": null,
            "height": null,
            "justify_content": null,
            "justify_items": null,
            "left": null,
            "margin": null,
            "max_height": null,
            "max_width": null,
            "min_height": null,
            "min_width": null,
            "object_fit": null,
            "object_position": null,
            "order": null,
            "overflow": null,
            "overflow_x": null,
            "overflow_y": null,
            "padding": null,
            "right": null,
            "top": null,
            "visibility": null,
            "width": null
          }
        },
        "78f4142c9c814921a066c085a714d268": {
          "model_module": "@jupyter-widgets/controls",
          "model_name": "DescriptionStyleModel",
          "model_module_version": "1.5.0",
          "state": {
            "_model_module": "@jupyter-widgets/controls",
            "_model_module_version": "1.5.0",
            "_model_name": "DescriptionStyleModel",
            "_view_count": null,
            "_view_module": "@jupyter-widgets/base",
            "_view_module_version": "1.2.0",
            "_view_name": "StyleView",
            "description_width": ""
          }
        },
        "5f11bb53c97a41d7a8b5d3838a24ceef": {
          "model_module": "@jupyter-widgets/base",
          "model_name": "LayoutModel",
          "model_module_version": "1.2.0",
          "state": {
            "_model_module": "@jupyter-widgets/base",
            "_model_module_version": "1.2.0",
            "_model_name": "LayoutModel",
            "_view_count": null,
            "_view_module": "@jupyter-widgets/base",
            "_view_module_version": "1.2.0",
            "_view_name": "LayoutView",
            "align_content": null,
            "align_items": null,
            "align_self": null,
            "border": null,
            "bottom": null,
            "display": null,
            "flex": null,
            "flex_flow": null,
            "grid_area": null,
            "grid_auto_columns": null,
            "grid_auto_flow": null,
            "grid_auto_rows": null,
            "grid_column": null,
            "grid_gap": null,
            "grid_row": null,
            "grid_template_areas": null,
            "grid_template_columns": null,
            "grid_template_rows": null,
            "height": null,
            "justify_content": null,
            "justify_items": null,
            "left": null,
            "margin": null,
            "max_height": null,
            "max_width": null,
            "min_height": null,
            "min_width": null,
            "object_fit": null,
            "object_position": null,
            "order": null,
            "overflow": null,
            "overflow_x": null,
            "overflow_y": null,
            "padding": null,
            "right": null,
            "top": null,
            "visibility": null,
            "width": null
          }
        },
        "5eb880f3a4b3426794cb5426f9da2f9f": {
          "model_module": "@jupyter-widgets/controls",
          "model_name": "DescriptionStyleModel",
          "model_module_version": "1.5.0",
          "state": {
            "_model_module": "@jupyter-widgets/controls",
            "_model_module_version": "1.5.0",
            "_model_name": "DescriptionStyleModel",
            "_view_count": null,
            "_view_module": "@jupyter-widgets/base",
            "_view_module_version": "1.2.0",
            "_view_name": "StyleView",
            "description_width": ""
          }
        },
        "1377a3be81aa449d9db92dc6183d5c9f": {
          "model_module": "@jupyter-widgets/base",
          "model_name": "LayoutModel",
          "model_module_version": "1.2.0",
          "state": {
            "_model_module": "@jupyter-widgets/base",
            "_model_module_version": "1.2.0",
            "_model_name": "LayoutModel",
            "_view_count": null,
            "_view_module": "@jupyter-widgets/base",
            "_view_module_version": "1.2.0",
            "_view_name": "LayoutView",
            "align_content": null,
            "align_items": null,
            "align_self": null,
            "border": null,
            "bottom": null,
            "display": null,
            "flex": null,
            "flex_flow": null,
            "grid_area": null,
            "grid_auto_columns": null,
            "grid_auto_flow": null,
            "grid_auto_rows": null,
            "grid_column": null,
            "grid_gap": null,
            "grid_row": null,
            "grid_template_areas": null,
            "grid_template_columns": null,
            "grid_template_rows": null,
            "height": null,
            "justify_content": null,
            "justify_items": null,
            "left": null,
            "margin": null,
            "max_height": null,
            "max_width": null,
            "min_height": null,
            "min_width": null,
            "object_fit": null,
            "object_position": null,
            "order": null,
            "overflow": null,
            "overflow_x": null,
            "overflow_y": null,
            "padding": null,
            "right": null,
            "top": null,
            "visibility": null,
            "width": null
          }
        },
        "ef53441e58d940b8ba05a95593edeaf8": {
          "model_module": "@jupyter-widgets/controls",
          "model_name": "DescriptionStyleModel",
          "model_module_version": "1.5.0",
          "state": {
            "_model_module": "@jupyter-widgets/controls",
            "_model_module_version": "1.5.0",
            "_model_name": "DescriptionStyleModel",
            "_view_count": null,
            "_view_module": "@jupyter-widgets/base",
            "_view_module_version": "1.2.0",
            "_view_name": "StyleView",
            "description_width": ""
          }
        },
        "43bf0eaa32804182af07393ff7a39441": {
          "model_module": "@jupyter-widgets/base",
          "model_name": "LayoutModel",
          "model_module_version": "1.2.0",
          "state": {
            "_model_module": "@jupyter-widgets/base",
            "_model_module_version": "1.2.0",
            "_model_name": "LayoutModel",
            "_view_count": null,
            "_view_module": "@jupyter-widgets/base",
            "_view_module_version": "1.2.0",
            "_view_name": "LayoutView",
            "align_content": null,
            "align_items": null,
            "align_self": null,
            "border": null,
            "bottom": null,
            "display": null,
            "flex": null,
            "flex_flow": null,
            "grid_area": null,
            "grid_auto_columns": null,
            "grid_auto_flow": null,
            "grid_auto_rows": null,
            "grid_column": null,
            "grid_gap": null,
            "grid_row": null,
            "grid_template_areas": null,
            "grid_template_columns": null,
            "grid_template_rows": null,
            "height": null,
            "justify_content": null,
            "justify_items": null,
            "left": null,
            "margin": null,
            "max_height": null,
            "max_width": null,
            "min_height": null,
            "min_width": null,
            "object_fit": null,
            "object_position": null,
            "order": null,
            "overflow": null,
            "overflow_x": null,
            "overflow_y": null,
            "padding": null,
            "right": null,
            "top": null,
            "visibility": null,
            "width": null
          }
        },
        "84f3fa62ee7f4d8080c5da930e91ece8": {
          "model_module": "@jupyter-widgets/controls",
          "model_name": "ButtonStyleModel",
          "model_module_version": "1.5.0",
          "state": {
            "_model_module": "@jupyter-widgets/controls",
            "_model_module_version": "1.5.0",
            "_model_name": "ButtonStyleModel",
            "_view_count": null,
            "_view_module": "@jupyter-widgets/base",
            "_view_module_version": "1.2.0",
            "_view_name": "StyleView",
            "button_color": null,
            "font_weight": ""
          }
        },
        "6c104f309de243ab855a97fe7ea92ef4": {
          "model_module": "@jupyter-widgets/base",
          "model_name": "LayoutModel",
          "model_module_version": "1.2.0",
          "state": {
            "_model_module": "@jupyter-widgets/base",
            "_model_module_version": "1.2.0",
            "_model_name": "LayoutModel",
            "_view_count": null,
            "_view_module": "@jupyter-widgets/base",
            "_view_module_version": "1.2.0",
            "_view_name": "LayoutView",
            "align_content": null,
            "align_items": null,
            "align_self": null,
            "border": null,
            "bottom": null,
            "display": null,
            "flex": null,
            "flex_flow": null,
            "grid_area": null,
            "grid_auto_columns": null,
            "grid_auto_flow": null,
            "grid_auto_rows": null,
            "grid_column": null,
            "grid_gap": null,
            "grid_row": null,
            "grid_template_areas": null,
            "grid_template_columns": null,
            "grid_template_rows": null,
            "height": null,
            "justify_content": null,
            "justify_items": null,
            "left": null,
            "margin": null,
            "max_height": null,
            "max_width": null,
            "min_height": null,
            "min_width": null,
            "object_fit": null,
            "object_position": null,
            "order": null,
            "overflow": null,
            "overflow_x": null,
            "overflow_y": null,
            "padding": null,
            "right": null,
            "top": null,
            "visibility": null,
            "width": null
          }
        },
        "86e62e99dcc943728fd57ee6092e2343": {
          "model_module": "@jupyter-widgets/controls",
          "model_name": "DescriptionStyleModel",
          "model_module_version": "1.5.0",
          "state": {
            "_model_module": "@jupyter-widgets/controls",
            "_model_module_version": "1.5.0",
            "_model_name": "DescriptionStyleModel",
            "_view_count": null,
            "_view_module": "@jupyter-widgets/base",
            "_view_module_version": "1.2.0",
            "_view_name": "StyleView",
            "description_width": ""
          }
        },
        "fdf1cdb1db2247739f873eebca8c629f": {
          "model_module": "@jupyter-widgets/controls",
          "model_name": "LabelModel",
          "model_module_version": "1.5.0",
          "state": {
            "_dom_classes": [],
            "_model_module": "@jupyter-widgets/controls",
            "_model_module_version": "1.5.0",
            "_model_name": "LabelModel",
            "_view_count": null,
            "_view_module": "@jupyter-widgets/controls",
            "_view_module_version": "1.5.0",
            "_view_name": "LabelView",
            "description": "",
            "description_tooltip": null,
            "layout": "IPY_MODEL_181ec40db2cd4839bad6a1ffcf14cf9e",
            "placeholder": "​",
            "style": "IPY_MODEL_15561cf231484fd29f423282468bafdc",
            "value": "Connecting..."
          }
        },
        "181ec40db2cd4839bad6a1ffcf14cf9e": {
          "model_module": "@jupyter-widgets/base",
          "model_name": "LayoutModel",
          "model_module_version": "1.2.0",
          "state": {
            "_model_module": "@jupyter-widgets/base",
            "_model_module_version": "1.2.0",
            "_model_name": "LayoutModel",
            "_view_count": null,
            "_view_module": "@jupyter-widgets/base",
            "_view_module_version": "1.2.0",
            "_view_name": "LayoutView",
            "align_content": null,
            "align_items": null,
            "align_self": null,
            "border": null,
            "bottom": null,
            "display": null,
            "flex": null,
            "flex_flow": null,
            "grid_area": null,
            "grid_auto_columns": null,
            "grid_auto_flow": null,
            "grid_auto_rows": null,
            "grid_column": null,
            "grid_gap": null,
            "grid_row": null,
            "grid_template_areas": null,
            "grid_template_columns": null,
            "grid_template_rows": null,
            "height": null,
            "justify_content": null,
            "justify_items": null,
            "left": null,
            "margin": null,
            "max_height": null,
            "max_width": null,
            "min_height": null,
            "min_width": null,
            "object_fit": null,
            "object_position": null,
            "order": null,
            "overflow": null,
            "overflow_x": null,
            "overflow_y": null,
            "padding": null,
            "right": null,
            "top": null,
            "visibility": null,
            "width": null
          }
        },
        "15561cf231484fd29f423282468bafdc": {
          "model_module": "@jupyter-widgets/controls",
          "model_name": "DescriptionStyleModel",
          "model_module_version": "1.5.0",
          "state": {
            "_model_module": "@jupyter-widgets/controls",
            "_model_module_version": "1.5.0",
            "_model_name": "DescriptionStyleModel",
            "_view_count": null,
            "_view_module": "@jupyter-widgets/base",
            "_view_module_version": "1.2.0",
            "_view_name": "StyleView",
            "description_width": ""
          }
        }
      }
    }
  },
  "cells": [
    {
      "cell_type": "code",
      "source": [
        "from huggingface_hub import notebook_login\n",
        "notebook_login()  # Follow the link and enter your token"
      ],
      "metadata": {
        "colab": {
          "base_uri": "https://localhost:8080/",
          "height": 17,
          "referenced_widgets": [
            "c0f54eaed4c2414bb3183bde251c1ef8",
            "54f8b3d6bbd94a5fa6ac3d38a4078445",
            "5b483b08aba94124aa63e452e8487e94",
            "6f6209f742c6420fb6b326cc39573159",
            "7b4fc876c6cf47baa371c98be399526c",
            "c9936e50480243c6b77569ca138e7ba7",
            "a82c3cdb58bd46a19a914eda09d1d1b2",
            "afcd56db381a49e2a9db732c9b34ec04",
            "78f4142c9c814921a066c085a714d268",
            "5f11bb53c97a41d7a8b5d3838a24ceef",
            "5eb880f3a4b3426794cb5426f9da2f9f",
            "1377a3be81aa449d9db92dc6183d5c9f",
            "ef53441e58d940b8ba05a95593edeaf8",
            "43bf0eaa32804182af07393ff7a39441",
            "84f3fa62ee7f4d8080c5da930e91ece8",
            "6c104f309de243ab855a97fe7ea92ef4",
            "86e62e99dcc943728fd57ee6092e2343",
            "fdf1cdb1db2247739f873eebca8c629f",
            "181ec40db2cd4839bad6a1ffcf14cf9e",
            "15561cf231484fd29f423282468bafdc"
          ]
        },
        "id": "hBIWHeCLDCyS",
        "outputId": "ce8091a5-3474-47e0-9b8d-22872a65cd2c"
      },
      "execution_count": null,
      "outputs": [
        {
          "output_type": "display_data",
          "data": {
            "text/plain": [
              "VBox(children=(HTML(value='<center> <img\\nsrc=https://huggingface.co/front/assets/huggingface_logo-noborder.sv…"
            ],
            "application/vnd.jupyter.widget-view+json": {
              "version_major": 2,
              "version_minor": 0,
              "model_id": "c0f54eaed4c2414bb3183bde251c1ef8"
            }
          },
          "metadata": {}
        }
      ]
    },
    {
      "cell_type": "code",
      "source": [
        "import pandas as pd\n",
        "import numpy as np\n",
        "from transformers import pipeline\n",
        "from sklearn.preprocessing import MinMaxScaler"
      ],
      "metadata": {
        "colab": {
          "base_uri": "https://localhost:8080/"
        },
        "id": "RI4WwiQxGHCM",
        "outputId": "328354b4-6c8a-46b4-9dc7-7ec750abf396"
      },
      "execution_count": null,
      "outputs": [
        {
          "output_type": "stream",
          "name": "stderr",
          "text": [
            "Device set to use cpu\n",
            "Device set to use cpu\n",
            "Device set to use cpu\n",
            "Device set to use cpu\n",
            "Device set to use cpu\n",
            "Truncation was not explicitly activated but `max_length` is provided a specific value, please use `truncation=True` to explicitly truncate examples to max length. Defaulting to 'longest_first' truncation strategy. If you encode pairs of sequences (GLUE-style) with the tokenizer you can select this strategy more precisely by providing a specific strategy to `truncation`.\n",
            "Setting `pad_token_id` to `eos_token_id`:50256 for open-end generation.\n",
            "Truncation was not explicitly activated but `max_length` is provided a specific value, please use `truncation=True` to explicitly truncate examples to max length. Defaulting to 'longest_first' truncation strategy. If you encode pairs of sequences (GLUE-style) with the tokenizer you can select this strategy more precisely by providing a specific strategy to `truncation`.\n",
            "Setting `pad_token_id` to `eos_token_id`:50256 for open-end generation.\n",
            "Truncation was not explicitly activated but `max_length` is provided a specific value, please use `truncation=True` to explicitly truncate examples to max length. Defaulting to 'longest_first' truncation strategy. If you encode pairs of sequences (GLUE-style) with the tokenizer you can select this strategy more precisely by providing a specific strategy to `truncation`.\n",
            "Truncation was not explicitly activated but `max_length` is provided a specific value, please use `truncation=True` to explicitly truncate examples to max length. Defaulting to 'longest_first' truncation strategy. If you encode pairs of sequences (GLUE-style) with the tokenizer you can select this strategy more precisely by providing a specific strategy to `truncation`.\n"
          ]
        },
        {
          "output_type": "stream",
          "name": "stdout",
          "text": [
            "Evaluation Results:\n",
            "         Model  Perplexity  BLEU Score  ROUGE Score\n",
            "0    DialoGPT   38.461184    0.784885     0.603142\n",
            "1     GPT-Neo   39.183734    0.757730     0.671471\n",
            "2          T5   31.335635    0.549989     0.898737\n",
            "3  BlenderBot   29.562547    0.687024     0.851854\n",
            "4         OPT   31.861328    0.599192     0.871672\n",
            "\n",
            "Final Ranking:\n",
            "         Model  Perplexity  BLEU Score  ROUGE Score  TOPSIS Score  Rank\n",
            "1     GPT-Neo    1.000000    0.884394     0.231158      0.635382   1.0\n",
            "0    DialoGPT    0.924900    1.000000     0.000000      0.575969   2.0\n",
            "3  BlenderBot    0.000000    0.583385     0.841392      0.483243   3.0\n",
            "4         OPT    0.238929    0.209467     0.908439      0.466380   4.0\n",
            "2          T5    0.184290    0.000000     1.000000      0.440698   5.0\n"
          ]
        }
      ]
    },
    {
      "cell_type": "code",
      "source": [
        "# Load conversational models\n",
        "models = {\n",
        "    \"DialoGPT\": pipeline(\"text-generation\", model=\"microsoft/DialoGPT-medium\"),\n",
        "    \"GPT-Neo\": pipeline(\"text-generation\", model=\"EleutherAI/gpt-neo-1.3B\"),\n",
        "    \"T5\": pipeline(\"text2text-generation\", model=\"t5-small\"),\n",
        "    \"BlenderBot\": pipeline(\"text-generation\", model=\"facebook/blenderbot-400M-distill\"),\n",
        "    \"OPT\": pipeline(\"text-generation\", model=\"facebook/opt-1.3b\")\n",
        "}"
      ],
      "metadata": {
        "id": "sdAYvJe02oBU"
      },
      "execution_count": null,
      "outputs": []
    },
    {
      "cell_type": "code",
      "source": [
        "# Sample test input for all models\n",
        "test_input = \"What is the meaning of life?\"\n",
        "\n",
        "# Evaluation function (replace with real evaluations)\n",
        "def evaluate_model(model_pipeline):\n",
        "    generated_text = model_pipeline(test_input, max_length=50)[0]['generated_text']\n",
        "\n",
        "    # Fake metrics (Replace these with actual metric calculations)\n",
        "    perplexity = np.random.uniform(20, 40)  # Lower is better\n",
        "    bleu_score = np.random.uniform(0.5, 0.9)  # Higher is better\n",
        "    rouge_score = np.random.uniform(0.5, 0.9)  # Higher is better\n",
        "\n",
        "    return perplexity, bleu_score, rouge_score"
      ],
      "metadata": {
        "id": "ltSCQNvf2o8R"
      },
      "execution_count": null,
      "outputs": []
    },
    {
      "cell_type": "code",
      "source": [
        "# Store results\n",
        "results = []\n",
        "for name, model in models.items():\n",
        "    perplexity, bleu, rouge = evaluate_model(model)\n",
        "    results.append([name, perplexity, bleu, rouge])"
      ],
      "metadata": {
        "id": "2OTbkMwY2s-2"
      },
      "execution_count": null,
      "outputs": []
    },
    {
      "cell_type": "code",
      "source": [
        "# Create DataFrame\n",
        "df = pd.DataFrame(results, columns=[\"Model\", \"Perplexity\", \"BLEU Score\", \"ROUGE Score\"])\n",
        "print(\"Evaluation Results:\\n\", df)\n",
        "\n",
        "# Normalize metrics for TOPSIS (Min-Max Scaling)\n",
        "scaler = MinMaxScaler()\n",
        "df[[\"Perplexity\", \"BLEU Score\", \"ROUGE Score\"]] = scaler.fit_transform(df[[\"Perplexity\", \"BLEU Score\", \"ROUGE Score\"]])\n",
        "\n",
        "# Convert to numpy array for TOPSIS calculations\n",
        "data = df.iloc[:, 1:].values\n",
        "\n",
        "# Define ideal best (higher is better) and ideal worst (lower is better)\n",
        "ideal_best = np.max(data, axis=0)\n",
        "ideal_worst = np.min(data, axis=0)\n",
        "\n",
        "# Calculate distances from ideal best & worst\n",
        "dist_best = np.linalg.norm(data - ideal_best, axis=1)\n",
        "dist_worst = np.linalg.norm(data - ideal_worst, axis=1)\n",
        "\n",
        "# Calculate TOPSIS scores\n",
        "df[\"TOPSIS Score\"] = dist_worst / (dist_best + dist_worst)\n",
        "\n",
        "# Rank models based on TOPSIS score\n",
        "df[\"Rank\"] = df[\"TOPSIS Score\"].rank(ascending=False)\n",
        "df = df.sort_values(by=\"Rank\")\n",
        "\n",
        "print(\"\\nFinal Ranking:\\n\", df)"
      ],
      "metadata": {
        "id": "Wk-ojErg2xgM"
      },
      "execution_count": null,
      "outputs": []
    },
    {
      "cell_type": "code",
      "source": [
        "# Save results to CSV for GitHub upload\n",
        "df.to_csv(\"topsis_results.csv\", index=False)"
      ],
      "metadata": {
        "id": "qodUbH9r29Or"
      },
      "execution_count": null,
      "outputs": []
    },
    {
      "cell_type": "code",
      "source": [
        "import seaborn as sns\n",
        "import pandas as pd\n",
        "\n",
        "# Sorting Data by TOPSIS Score\n",
        "df_sorted = df.sort_values(\"TOPSIS Score\", ascending=False)\n",
        "\n",
        "# Set styles\n",
        "plt.figure(figsize=(10, 4))\n",
        "sns.set_style(\"whitegrid\")\n",
        "\n",
        "# Create a pretty DataFrame table\n",
        "styled_table = df_sorted.style.background_gradient(cmap=\"coolwarm\", subset=[\"TOPSIS Score\"]) \\\n",
        "    .set_table_styles([{\"selector\": \"th\", \"props\": [(\"font-size\", \"12pt\"), (\"font-weight\", \"bold\")]}]) \\\n",
        "    .set_properties(**{\"font-size\": \"11pt\", \"border\": \"1px solid black\"})\n",
        "\n",
        "# Show Table\n",
        "styled_table\n"
      ],
      "metadata": {
        "colab": {
          "base_uri": "https://localhost:8080/",
          "height": 250
        },
        "id": "8A1BKb63NPV3",
        "outputId": "fd94216d-e07a-490c-eed3-ed3fec65109c"
      },
      "execution_count": null,
      "outputs": [
        {
          "output_type": "execute_result",
          "data": {
            "text/plain": [
              "<pandas.io.formats.style.Styler at 0x78b1390b3a90>"
            ],
            "text/html": [
              "<style type=\"text/css\">\n",
              "#T_f76b6 th {\n",
              "  font-size: 12pt;\n",
              "  font-weight: bold;\n",
              "}\n",
              "#T_f76b6_row0_col0, #T_f76b6_row0_col1, #T_f76b6_row0_col2, #T_f76b6_row0_col3, #T_f76b6_row0_col5, #T_f76b6_row1_col0, #T_f76b6_row1_col1, #T_f76b6_row1_col2, #T_f76b6_row1_col3, #T_f76b6_row1_col5, #T_f76b6_row2_col0, #T_f76b6_row2_col1, #T_f76b6_row2_col2, #T_f76b6_row2_col3, #T_f76b6_row2_col5, #T_f76b6_row3_col0, #T_f76b6_row3_col1, #T_f76b6_row3_col2, #T_f76b6_row3_col3, #T_f76b6_row3_col5, #T_f76b6_row4_col0, #T_f76b6_row4_col1, #T_f76b6_row4_col2, #T_f76b6_row4_col3, #T_f76b6_row4_col5 {\n",
              "  font-size: 11pt;\n",
              "  border: 1px solid black;\n",
              "}\n",
              "#T_f76b6_row0_col4 {\n",
              "  background-color: #b40426;\n",
              "  color: #f1f1f1;\n",
              "  font-size: 11pt;\n",
              "  border: 1px solid black;\n",
              "}\n",
              "#T_f76b6_row1_col4 {\n",
              "  background-color: #f7af91;\n",
              "  color: #000000;\n",
              "  font-size: 11pt;\n",
              "  border: 1px solid black;\n",
              "}\n",
              "#T_f76b6_row2_col4 {\n",
              "  background-color: #81a4fb;\n",
              "  color: #f1f1f1;\n",
              "  font-size: 11pt;\n",
              "  border: 1px solid black;\n",
              "}\n",
              "#T_f76b6_row3_col4 {\n",
              "  background-color: #6384eb;\n",
              "  color: #f1f1f1;\n",
              "  font-size: 11pt;\n",
              "  border: 1px solid black;\n",
              "}\n",
              "#T_f76b6_row4_col4 {\n",
              "  background-color: #3b4cc0;\n",
              "  color: #f1f1f1;\n",
              "  font-size: 11pt;\n",
              "  border: 1px solid black;\n",
              "}\n",
              "</style>\n",
              "<table id=\"T_f76b6\" class=\"dataframe\">\n",
              "  <thead>\n",
              "    <tr>\n",
              "      <th class=\"blank level0\" >&nbsp;</th>\n",
              "      <th id=\"T_f76b6_level0_col0\" class=\"col_heading level0 col0\" >Model</th>\n",
              "      <th id=\"T_f76b6_level0_col1\" class=\"col_heading level0 col1\" >Perplexity</th>\n",
              "      <th id=\"T_f76b6_level0_col2\" class=\"col_heading level0 col2\" >BLEU Score</th>\n",
              "      <th id=\"T_f76b6_level0_col3\" class=\"col_heading level0 col3\" >ROUGE Score</th>\n",
              "      <th id=\"T_f76b6_level0_col4\" class=\"col_heading level0 col4\" >TOPSIS Score</th>\n",
              "      <th id=\"T_f76b6_level0_col5\" class=\"col_heading level0 col5\" >Rank</th>\n",
              "    </tr>\n",
              "  </thead>\n",
              "  <tbody>\n",
              "    <tr>\n",
              "      <th id=\"T_f76b6_level0_row0\" class=\"row_heading level0 row0\" >1</th>\n",
              "      <td id=\"T_f76b6_row0_col0\" class=\"data row0 col0\" >GPT-Neo</td>\n",
              "      <td id=\"T_f76b6_row0_col1\" class=\"data row0 col1\" >1.000000</td>\n",
              "      <td id=\"T_f76b6_row0_col2\" class=\"data row0 col2\" >0.884394</td>\n",
              "      <td id=\"T_f76b6_row0_col3\" class=\"data row0 col3\" >0.231158</td>\n",
              "      <td id=\"T_f76b6_row0_col4\" class=\"data row0 col4\" >0.635382</td>\n",
              "      <td id=\"T_f76b6_row0_col5\" class=\"data row0 col5\" >1.000000</td>\n",
              "    </tr>\n",
              "    <tr>\n",
              "      <th id=\"T_f76b6_level0_row1\" class=\"row_heading level0 row1\" >0</th>\n",
              "      <td id=\"T_f76b6_row1_col0\" class=\"data row1 col0\" >DialoGPT</td>\n",
              "      <td id=\"T_f76b6_row1_col1\" class=\"data row1 col1\" >0.924900</td>\n",
              "      <td id=\"T_f76b6_row1_col2\" class=\"data row1 col2\" >1.000000</td>\n",
              "      <td id=\"T_f76b6_row1_col3\" class=\"data row1 col3\" >0.000000</td>\n",
              "      <td id=\"T_f76b6_row1_col4\" class=\"data row1 col4\" >0.575969</td>\n",
              "      <td id=\"T_f76b6_row1_col5\" class=\"data row1 col5\" >2.000000</td>\n",
              "    </tr>\n",
              "    <tr>\n",
              "      <th id=\"T_f76b6_level0_row2\" class=\"row_heading level0 row2\" >3</th>\n",
              "      <td id=\"T_f76b6_row2_col0\" class=\"data row2 col0\" >BlenderBot</td>\n",
              "      <td id=\"T_f76b6_row2_col1\" class=\"data row2 col1\" >0.000000</td>\n",
              "      <td id=\"T_f76b6_row2_col2\" class=\"data row2 col2\" >0.583385</td>\n",
              "      <td id=\"T_f76b6_row2_col3\" class=\"data row2 col3\" >0.841392</td>\n",
              "      <td id=\"T_f76b6_row2_col4\" class=\"data row2 col4\" >0.483243</td>\n",
              "      <td id=\"T_f76b6_row2_col5\" class=\"data row2 col5\" >3.000000</td>\n",
              "    </tr>\n",
              "    <tr>\n",
              "      <th id=\"T_f76b6_level0_row3\" class=\"row_heading level0 row3\" >4</th>\n",
              "      <td id=\"T_f76b6_row3_col0\" class=\"data row3 col0\" >OPT</td>\n",
              "      <td id=\"T_f76b6_row3_col1\" class=\"data row3 col1\" >0.238929</td>\n",
              "      <td id=\"T_f76b6_row3_col2\" class=\"data row3 col2\" >0.209467</td>\n",
              "      <td id=\"T_f76b6_row3_col3\" class=\"data row3 col3\" >0.908439</td>\n",
              "      <td id=\"T_f76b6_row3_col4\" class=\"data row3 col4\" >0.466380</td>\n",
              "      <td id=\"T_f76b6_row3_col5\" class=\"data row3 col5\" >4.000000</td>\n",
              "    </tr>\n",
              "    <tr>\n",
              "      <th id=\"T_f76b6_level0_row4\" class=\"row_heading level0 row4\" >2</th>\n",
              "      <td id=\"T_f76b6_row4_col0\" class=\"data row4 col0\" >T5</td>\n",
              "      <td id=\"T_f76b6_row4_col1\" class=\"data row4 col1\" >0.184290</td>\n",
              "      <td id=\"T_f76b6_row4_col2\" class=\"data row4 col2\" >0.000000</td>\n",
              "      <td id=\"T_f76b6_row4_col3\" class=\"data row4 col3\" >1.000000</td>\n",
              "      <td id=\"T_f76b6_row4_col4\" class=\"data row4 col4\" >0.440698</td>\n",
              "      <td id=\"T_f76b6_row4_col5\" class=\"data row4 col5\" >5.000000</td>\n",
              "    </tr>\n",
              "  </tbody>\n",
              "</table>\n"
            ]
          },
          "metadata": {},
          "execution_count": 6
        },
        {
          "output_type": "display_data",
          "data": {
            "text/plain": [
              "<Figure size 1000x400 with 0 Axes>"
            ]
          },
          "metadata": {}
        }
      ]
    },
    {
      "cell_type": "code",
      "source": [
        "import matplotlib.pyplot as plt\n",
        "import seaborn as sns\n",
        "\n",
        "sns.set(style=\"whitegrid\")\n",
        "\n",
        "fig, axes = plt.subplots(1, 3, figsize=(15, 5))\n",
        "\n",
        "sns.barplot(x=\"Model\", y=\"Perplexity\", data=df, ax=axes[0], palette=\"coolwarm\")\n",
        "axes[0].set_title(\"Perplexity (Lower is Better)\")\n",
        "axes[0].set_xticklabels(df[\"Model\"], rotation=30)\n",
        "\n",
        "\n",
        "plt.figure(figsize=(8, 6))\n",
        "sns.heatmap(df.set_index(\"Model\")[[\"Perplexity\", \"BLEU Score\", \"ROUGE Score\", \"TOPSIS Score\"]],\n",
        "            annot=True, fmt=\".2f\", cmap=\"coolwarm\", linewidths=0.5)\n",
        "plt.title(\"Model Performance Heatmap\")\n",
        "plt.show()"
      ],
      "metadata": {
        "colab": {
          "base_uri": "https://localhost:8080/",
          "height": 1000
        },
        "id": "0VOQTUgSEYGa",
        "outputId": "c1149b89-af0f-4489-c254-c01f2b3f6cd8"
      },
      "execution_count": null,
      "outputs": [
        {
          "output_type": "stream",
          "name": "stderr",
          "text": [
            "<ipython-input-4-2a0fa276bca0>:11: FutureWarning: \n",
            "\n",
            "Passing `palette` without assigning `hue` is deprecated and will be removed in v0.14.0. Assign the `x` variable to `hue` and set `legend=False` for the same effect.\n",
            "\n",
            "  sns.barplot(x=\"Model\", y=\"Perplexity\", data=df, ax=axes[0], palette=\"coolwarm\")\n",
            "<ipython-input-4-2a0fa276bca0>:13: UserWarning: set_ticklabels() should only be used with a fixed number of ticks, i.e. after set_ticks() or using a FixedLocator.\n",
            "  axes[0].set_xticklabels(df[\"Model\"], rotation=30)\n",
            "<ipython-input-4-2a0fa276bca0>:16: FutureWarning: \n",
            "\n",
            "Passing `palette` without assigning `hue` is deprecated and will be removed in v0.14.0. Assign the `x` variable to `hue` and set `legend=False` for the same effect.\n",
            "\n",
            "  sns.barplot(x=\"Model\", y=\"BLEU Score\", data=df, ax=axes[1], palette=\"viridis\")\n",
            "<ipython-input-4-2a0fa276bca0>:18: UserWarning: set_ticklabels() should only be used with a fixed number of ticks, i.e. after set_ticks() or using a FixedLocator.\n",
            "  axes[1].set_xticklabels(df[\"Model\"], rotation=30)\n",
            "<ipython-input-4-2a0fa276bca0>:21: FutureWarning: \n",
            "\n",
            "Passing `palette` without assigning `hue` is deprecated and will be removed in v0.14.0. Assign the `x` variable to `hue` and set `legend=False` for the same effect.\n",
            "\n",
            "  sns.barplot(x=\"Model\", y=\"ROUGE Score\", data=df, ax=axes[2], palette=\"magma\")\n",
            "<ipython-input-4-2a0fa276bca0>:23: UserWarning: set_ticklabels() should only be used with a fixed number of ticks, i.e. after set_ticks() or using a FixedLocator.\n",
            "  axes[2].set_xticklabels(df[\"Model\"], rotation=30)\n"
          ]
        },
        {
          "output_type": "display_data",
          "data": {
            "text/plain": [
              "<Figure size 1500x500 with 3 Axes>"
            ],
            "image/png": "[encoded data removed]"
          },
          "metadata": {}
        },
        {
          "output_type": "stream",
          "name": "stderr",
          "text": [
            "<ipython-input-4-2a0fa276bca0>:30: FutureWarning: \n",
            "\n",
            "Passing `palette` without assigning `hue` is deprecated and will be removed in v0.14.0. Assign the `y` variable to `hue` and set `legend=False` for the same effect.\n",
            "\n",
            "  sns.barplot(x=\"TOPSIS Score\", y=\"Model\", data=df.sort_values(\"TOPSIS Score\", ascending=False), palette=\"coolwarm\")\n"
          ]
        },
        {
          "output_type": "display_data",
          "data": {
            "text/plain": [
              "<Figure size 800x500 with 1 Axes>"
            ],
            "image/png": "[encoded data removed]"
          },
          "metadata": {}
        },
        {
          "output_type": "display_data",
          "data": {
            "text/plain": [
              "<Figure size 800x500 with 1 Axes>"
            ],
            "image/png": "[encoded data removed]"
          },
          "metadata": {}
        }
      ]
    },
    {
      "cell_type": "code",
      "source": [],
      "metadata": {
        "id": "4WDWWDaAFnlc"
      },
      "execution_count": null,
      "outputs": []
    }
  ]
}